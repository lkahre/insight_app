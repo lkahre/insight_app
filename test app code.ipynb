{
 "cells": [
  {
   "cell_type": "code",
   "execution_count": 52,
   "metadata": {},
   "outputs": [
    {
     "name": "stderr",
     "output_type": "stream",
     "text": [
      "/home/lauren/Documents/Insight/insight_app/calc_probabilities.py:61: FutureWarning: set_value is deprecated and will be removed in a future release. Please use .at[] or .iat[] accessors instead\n",
      "  user_dummy_df.set_value(month-1, monthstring, 1)\n"
     ]
    },
    {
     "name": "stdout",
     "output_type": "stream",
     "text": [
      "\n",
      "<script type=\"text/javascript\">\n",
      "  (function() {\n",
      "    var fn = function() {\n",
      "      Bokeh.safely(function() {\n",
      "        (function(root) {\n",
      "          function embed_document(root) {\n",
      "            \n",
      "          var docs_json = '{\"f991ec38-f8a3-49e8-8929-10d40af4ac51\":{\"roots\":{\"references\":[{\"attributes\":{\"source\":{\"id\":\"1f522811-461c-4cee-87f0-30c9c7ce2d03\",\"type\":\"ColumnDataSource\"}},\"id\":\"8bd41746-fc4e-489c-b16d-998d44d42e2b\",\"type\":\"CDSView\"},{\"attributes\":{\"line_color\":\"#1f77b4\",\"x\":{\"field\":\"x\"},\"y\":{\"field\":\"y\"}},\"id\":\"465b89d2-cc42-4416-a9a8-1abc80e4ed13\",\"type\":\"Line\"},{\"attributes\":{},\"id\":\"58cbc35f-be83-47ad-a4fd-dc52f9dcd107\",\"type\":\"HelpTool\"},{\"attributes\":{\"overlay\":{\"id\":\"164c26e6-2a9c-4bf6-80bb-aa2c525068e6\",\"type\":\"BoxAnnotation\"}},\"id\":\"cd6d0a2c-dfb0-4e4c-82b9-32668d3d917e\",\"type\":\"BoxZoomTool\"},{\"attributes\":{\"dimension\":1,\"plot\":{\"id\":\"b3ef89f5-4b66-4f7b-a734-1bc028445182\",\"subtype\":\"Figure\",\"type\":\"Plot\"},\"ticker\":{\"id\":\"cdc34783-e682-4122-b021-63a021c39358\",\"type\":\"BasicTicker\"}},\"id\":\"78ebf807-49bf-45b0-8b60-0bfbd36cae78\",\"type\":\"Grid\"},{\"attributes\":{},\"id\":\"5daf7d7a-9c25-4e7b-9533-90a89d94133f\",\"type\":\"CategoricalTickFormatter\"},{\"attributes\":{},\"id\":\"88fbf2d0-5099-41bb-89e9-a848c57ab2c3\",\"type\":\"SaveTool\"},{\"attributes\":{\"plot\":null,\"text\":\"\"},\"id\":\"46d75070-f3e3-41ef-a397-813b548ac596\",\"type\":\"Title\"},{\"attributes\":{\"callback\":null,\"end\":100},\"id\":\"3ababaad-61eb-4095-9de2-4e3a3aea5ef0\",\"type\":\"Range1d\"},{\"attributes\":{},\"id\":\"575ced44-8b5f-4486-ab03-9b317a563ef4\",\"type\":\"ResetTool\"},{\"attributes\":{\"callback\":null,\"data\":{\"x\":[\"Jan\",\"Feb\",\"Mar\",\"Apr\",\"May\",\"Jun\",\"Jul\",\"Aug\",\"Sep\",\"Oct\",\"Nov\",\"Dec\"],\"y\":{\"__ndarray__\":\"mpmZmZl5V0ApXI/C9YhXQLgehetR2FdAAAAAAACwV0BxPQrXo7BXQFyPwvUoTFdAhetRuB5lV0AzMzMzMzNXQD0K16NwDVdAAAAAAACwV0B7FK5H4YpXQJqZmZmZmVdA\",\"dtype\":\"float64\",\"shape\":[12]}},\"selected\":{\"id\":\"de642c01-f614-418e-85d1-1bd2a0f21e96\",\"type\":\"Selection\"},\"selection_policy\":{\"id\":\"c7d73ff4-0cb7-47e4-a189-e87108a3d902\",\"type\":\"UnionRenderers\"}},\"id\":\"1f522811-461c-4cee-87f0-30c9c7ce2d03\",\"type\":\"ColumnDataSource\"},{\"attributes\":{},\"id\":\"cdc34783-e682-4122-b021-63a021c39358\",\"type\":\"BasicTicker\"},{\"attributes\":{},\"id\":\"5f62a438-3a0f-40c7-952b-3489a66481fb\",\"type\":\"CategoricalTicker\"},{\"attributes\":{},\"id\":\"c7d73ff4-0cb7-47e4-a189-e87108a3d902\",\"type\":\"UnionRenderers\"},{\"attributes\":{\"line_alpha\":0.1,\"line_color\":\"#1f77b4\",\"x\":{\"field\":\"x\"},\"y\":{\"field\":\"y\"}},\"id\":\"d8b668ae-fb9d-497e-a3be-d554ed534d87\",\"type\":\"Line\"},{\"attributes\":{\"axis_label\":\"Month\",\"formatter\":{\"id\":\"5daf7d7a-9c25-4e7b-9533-90a89d94133f\",\"type\":\"CategoricalTickFormatter\"},\"plot\":{\"id\":\"b3ef89f5-4b66-4f7b-a734-1bc028445182\",\"subtype\":\"Figure\",\"type\":\"Plot\"},\"ticker\":{\"id\":\"5f62a438-3a0f-40c7-952b-3489a66481fb\",\"type\":\"CategoricalTicker\"}},\"id\":\"efa0355d-f7e9-4e31-aa2a-e9c9510f4b33\",\"type\":\"CategoricalAxis\"},{\"attributes\":{\"plot\":{\"id\":\"b3ef89f5-4b66-4f7b-a734-1bc028445182\",\"subtype\":\"Figure\",\"type\":\"Plot\"},\"ticker\":{\"id\":\"5f62a438-3a0f-40c7-952b-3489a66481fb\",\"type\":\"CategoricalTicker\"}},\"id\":\"6e778126-8199-47dc-a5c1-1d14cdd0b7c0\",\"type\":\"Grid\"},{\"attributes\":{\"axis_label\":\"% Chance of Acceptance\",\"formatter\":{\"id\":\"88bf561a-5dd4-4161-8807-48d21f692c37\",\"type\":\"BasicTickFormatter\"},\"plot\":{\"id\":\"b3ef89f5-4b66-4f7b-a734-1bc028445182\",\"subtype\":\"Figure\",\"type\":\"Plot\"},\"ticker\":{\"id\":\"cdc34783-e682-4122-b021-63a021c39358\",\"type\":\"BasicTicker\"}},\"id\":\"7f788352-500e-402b-ae6c-4a2eeea68a84\",\"type\":\"LinearAxis\"},{\"attributes\":{},\"id\":\"71beaf66-733d-413d-8e1a-1a15901ff9d8\",\"type\":\"WheelZoomTool\"},{\"attributes\":{},\"id\":\"de642c01-f614-418e-85d1-1bd2a0f21e96\",\"type\":\"Selection\"},{\"attributes\":{},\"id\":\"000f63f4-61dc-4813-9095-5b9d118ff9e9\",\"type\":\"CategoricalScale\"},{\"attributes\":{\"below\":[{\"id\":\"efa0355d-f7e9-4e31-aa2a-e9c9510f4b33\",\"type\":\"CategoricalAxis\"}],\"left\":[{\"id\":\"7f788352-500e-402b-ae6c-4a2eeea68a84\",\"type\":\"LinearAxis\"}],\"renderers\":[{\"id\":\"efa0355d-f7e9-4e31-aa2a-e9c9510f4b33\",\"type\":\"CategoricalAxis\"},{\"id\":\"6e778126-8199-47dc-a5c1-1d14cdd0b7c0\",\"type\":\"Grid\"},{\"id\":\"7f788352-500e-402b-ae6c-4a2eeea68a84\",\"type\":\"LinearAxis\"},{\"id\":\"78ebf807-49bf-45b0-8b60-0bfbd36cae78\",\"type\":\"Grid\"},{\"id\":\"164c26e6-2a9c-4bf6-80bb-aa2c525068e6\",\"type\":\"BoxAnnotation\"},{\"id\":\"9d06a196-a8f9-43d6-8033-be1e591cad02\",\"type\":\"GlyphRenderer\"}],\"title\":{\"id\":\"46d75070-f3e3-41ef-a397-813b548ac596\",\"type\":\"Title\"},\"toolbar\":{\"id\":\"51b54c0e-3182-4606-be35-8c036da72462\",\"type\":\"Toolbar\"},\"x_range\":{\"id\":\"b563465f-fa7d-4205-a4b4-93b18288a2e8\",\"type\":\"FactorRange\"},\"x_scale\":{\"id\":\"000f63f4-61dc-4813-9095-5b9d118ff9e9\",\"type\":\"CategoricalScale\"},\"y_range\":{\"id\":\"3ababaad-61eb-4095-9de2-4e3a3aea5ef0\",\"type\":\"Range1d\"},\"y_scale\":{\"id\":\"4c84be90-319b-47bb-a57b-2d72ec09cfd7\",\"type\":\"LinearScale\"}},\"id\":\"b3ef89f5-4b66-4f7b-a734-1bc028445182\",\"subtype\":\"Figure\",\"type\":\"Plot\"},{\"attributes\":{},\"id\":\"4c84be90-319b-47bb-a57b-2d72ec09cfd7\",\"type\":\"LinearScale\"},{\"attributes\":{},\"id\":\"88bf561a-5dd4-4161-8807-48d21f692c37\",\"type\":\"BasicTickFormatter\"},{\"attributes\":{\"active_drag\":\"auto\",\"active_inspect\":\"auto\",\"active_multi\":null,\"active_scroll\":\"auto\",\"active_tap\":\"auto\",\"tools\":[{\"id\":\"a153757c-a510-4b93-abe5-c3e3351a86d9\",\"type\":\"PanTool\"},{\"id\":\"71beaf66-733d-413d-8e1a-1a15901ff9d8\",\"type\":\"WheelZoomTool\"},{\"id\":\"cd6d0a2c-dfb0-4e4c-82b9-32668d3d917e\",\"type\":\"BoxZoomTool\"},{\"id\":\"88fbf2d0-5099-41bb-89e9-a848c57ab2c3\",\"type\":\"SaveTool\"},{\"id\":\"575ced44-8b5f-4486-ab03-9b317a563ef4\",\"type\":\"ResetTool\"},{\"id\":\"58cbc35f-be83-47ad-a4fd-dc52f9dcd107\",\"type\":\"HelpTool\"}]},\"id\":\"51b54c0e-3182-4606-be35-8c036da72462\",\"type\":\"Toolbar\"},{\"attributes\":{},\"id\":\"a153757c-a510-4b93-abe5-c3e3351a86d9\",\"type\":\"PanTool\"},{\"attributes\":{\"bottom_units\":\"screen\",\"fill_alpha\":{\"value\":0.5},\"fill_color\":{\"value\":\"lightgrey\"},\"left_units\":\"screen\",\"level\":\"overlay\",\"line_alpha\":{\"value\":1.0},\"line_color\":{\"value\":\"black\"},\"line_dash\":[4,4],\"line_width\":{\"value\":2},\"plot\":null,\"render_mode\":\"css\",\"right_units\":\"screen\",\"top_units\":\"screen\"},\"id\":\"164c26e6-2a9c-4bf6-80bb-aa2c525068e6\",\"type\":\"BoxAnnotation\"},{\"attributes\":{\"callback\":null,\"factors\":[\"Jan\",\"Feb\",\"Mar\",\"Apr\",\"May\",\"Jun\",\"Jul\",\"Aug\",\"Sep\",\"Oct\",\"Nov\",\"Dec\"]},\"id\":\"b563465f-fa7d-4205-a4b4-93b18288a2e8\",\"type\":\"FactorRange\"},{\"attributes\":{\"data_source\":{\"id\":\"1f522811-461c-4cee-87f0-30c9c7ce2d03\",\"type\":\"ColumnDataSource\"},\"glyph\":{\"id\":\"465b89d2-cc42-4416-a9a8-1abc80e4ed13\",\"type\":\"Line\"},\"hover_glyph\":null,\"muted_glyph\":null,\"nonselection_glyph\":{\"id\":\"d8b668ae-fb9d-497e-a3be-d554ed534d87\",\"type\":\"Line\"},\"selection_glyph\":null,\"view\":{\"id\":\"8bd41746-fc4e-489c-b16d-998d44d42e2b\",\"type\":\"CDSView\"}},\"id\":\"9d06a196-a8f9-43d6-8033-be1e591cad02\",\"type\":\"GlyphRenderer\"}],\"root_ids\":[\"b3ef89f5-4b66-4f7b-a734-1bc028445182\"]},\"title\":\"Bokeh Application\",\"version\":\"0.13.0\"}}';\n",
      "          var render_items = [{\"docid\":\"f991ec38-f8a3-49e8-8929-10d40af4ac51\",\"roots\":{\"b3ef89f5-4b66-4f7b-a734-1bc028445182\":\"08078d04-0b43-4b05-b810-a3e187415916\"}}];\n",
      "          root.Bokeh.embed.embed_items(docs_json, render_items);\n",
      "        \n",
      "          }\n",
      "          if (root.Bokeh !== undefined) {\n",
      "            embed_document(root);\n",
      "          } else {\n",
      "            var attempts = 0;\n",
      "            var timer = setInterval(function(root) {\n",
      "              if (root.Bokeh !== undefined) {\n",
      "                embed_document(root);\n",
      "                clearInterval(timer);\n",
      "              }\n",
      "              attempts++;\n",
      "              if (attempts > 100) {\n",
      "                console.log(\"Bokeh: ERROR: Unable to run BokehJS code because BokehJS library is missing\")\n",
      "                clearInterval(timer);\n",
      "              }\n",
      "            }, 10, root)\n",
      "          }\n",
      "        })(window);\n",
      "      });\n",
      "    };\n",
      "    if (document.readyState != \"loading\") fn();\n",
      "    else document.addEventListener(\"DOMContentLoaded\", fn);\n",
      "  })();\n",
      "</script>\n",
      "\n",
      "<div class=\"bk-root\" id=\"08078d04-0b43-4b05-b810-a3e187415916\"></div>\n"
     ]
    }
   ],
   "source": [
    "from calc_probabilities import calc_probabilities\n",
    "from get_varlists import get_varlists\n",
    "from bokeh.plotting import figure\n",
    "from bokeh.resources import CDN\n",
    "from bokeh.embed import components\n",
    "import matplotlib.pyplot as plt\n",
    "import numpy as np\n",
    "import io\n",
    "import base64\n",
    "\n",
    "probs, top3probs = calc_probabilities('H-1B', 'Doctorate', 54.0)\n",
    "htmltables = [probs.to_html(classes=\"probs\"), top3probs.to_html(classes=\"top3probs\")]\n",
    "titles = ['Probabilities by Month', 'Top Three Months']\n",
    "\n",
    "plot = figure(x_range=probs['Month'], y_range=(0,100))\n",
    "plot.xaxis.axis_label = 'Month'\n",
    "plot.yaxis.axis_label = '% Chance of Acceptance'\n",
    "plot.line(probs['Month'], probs['Probability'])\n",
    "script, div = components(plot)\n",
    "print(script)\n",
    "print(div)\n",
    "\n",
    "#plt.ylim([0, 100])\n",
    "#plt.xticks(xaxis_loc, monthly_probs['Month'])\n",
    "#plt.xlabel('Month')\n",
    "#plt.ylabel('% Chance of Acceptance')\n",
    "#plt.title('Visa Chance of Acceptance by Month')\n",
    "#figfile = io.StringIO()\n",
    "#plt.savefig(figfile, format='png')\n",
    "#figfile.seek(0)        \n",
    "#figdata_png = base64.b64encode(figfile.getvalue())"
   ]
  },
  {
   "cell_type": "code",
   "execution_count": null,
   "metadata": {},
   "outputs": [],
   "source": []
  }
 ],
 "metadata": {
  "kernelspec": {
   "display_name": "Python 3",
   "language": "python",
   "name": "python3"
  },
  "language_info": {
   "codemirror_mode": {
    "name": "ipython",
    "version": 3
   },
   "file_extension": ".py",
   "mimetype": "text/x-python",
   "name": "python",
   "nbconvert_exporter": "python",
   "pygments_lexer": "ipython3",
   "version": "3.6.2"
  }
 },
 "nbformat": 4,
 "nbformat_minor": 2
}
