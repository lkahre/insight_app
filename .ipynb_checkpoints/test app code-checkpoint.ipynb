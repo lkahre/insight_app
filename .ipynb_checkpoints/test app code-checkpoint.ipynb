{
 "cells": [
  {
   "cell_type": "code",
   "execution_count": 2,
   "metadata": {},
   "outputs": [
    {
     "name": "stderr",
     "output_type": "stream",
     "text": [
      "/home/lauren/Documents/Insight/insight_app/calc_probabilities.py:61: FutureWarning: set_value is deprecated and will be removed in a future release. Please use .at[] or .iat[] accessors instead\n",
      "  user_dummy_df.set_value(month-1, monthstring, 1)\n"
     ]
    },
    {
     "name": "stdout",
     "output_type": "stream",
     "text": [
      "['\\n                    <style>\\n                        .probstrans tbody tr:nth-child(even) {background-color: lightblue; }\\n                    </style>\\n                    <table border=\"1\" class=\"dataframe monthlyprobs\">\\n  <thead>\\n    <tr style=\"text-align: right;\">\\n      <th></th>\\n      <th>0</th>\\n      <th>1</th>\\n      <th>2</th>\\n      <th>3</th>\\n      <th>4</th>\\n      <th>5</th>\\n      <th>6</th>\\n      <th>7</th>\\n      <th>8</th>\\n      <th>9</th>\\n      <th>10</th>\\n      <th>11</th>\\n    </tr>\\n  </thead>\\n  <tbody>\\n    <tr>\\n      <th>Month</th>\\n      <td>Jan</td>\\n      <td>Feb</td>\\n      <td>Mar</td>\\n      <td>Apr</td>\\n      <td>May</td>\\n      <td>Jun</td>\\n      <td>Jul</td>\\n      <td>Aug</td>\\n      <td>Sep</td>\\n      <td>Oct</td>\\n      <td>Nov</td>\\n      <td>Dec</td>\\n    </tr>\\n    <tr>\\n      <th>Probability</th>\\n      <td>93.9</td>\\n      <td>94.14</td>\\n      <td>95.38</td>\\n      <td>94.75</td>\\n      <td>94.76</td>\\n      <td>93.19</td>\\n      <td>93.58</td>\\n      <td>92.8</td>\\n      <td>92.21</td>\\n      <td>94.75</td>\\n      <td>94.17</td>\\n      <td>94.4</td>\\n    </tr>\\n  </tbody>\\n</table>', '<table border=\"0.0\" class=\"dataframe top3probs\">\\n  <thead>\\n    <tr style=\"text-align: center;\">\\n      <th></th>\\n      <th>Month</th>\\n      <th>Probability</th>\\n    </tr>\\n  </thead>\\n  <tbody>\\n    <tr>\\n      <th>1</th>\\n      <td>Mar</td>\\n      <td>95.38</td>\\n    </tr>\\n    <tr>\\n      <th>2</th>\\n      <td>May</td>\\n      <td>94.76</td>\\n    </tr>\\n    <tr>\\n      <th>3</th>\\n      <td>Apr</td>\\n      <td>94.75</td>\\n    </tr>\\n  </tbody>\\n</table>']\n"
     ]
    },
    {
     "data": {
      "text/html": [
       "\n",
       "                    <style>\n",
       "                        .probstrans tbody tr:nth-child(even) {background-color: lightblue; }\n",
       "                    </style>\n",
       "                    <table border=\"1\" class=\"dataframe monthlyprobs\">\n",
       "  <thead>\n",
       "    <tr style=\"text-align: right;\">\n",
       "      <th></th>\n",
       "      <th>0</th>\n",
       "      <th>1</th>\n",
       "      <th>2</th>\n",
       "      <th>3</th>\n",
       "      <th>4</th>\n",
       "      <th>5</th>\n",
       "      <th>6</th>\n",
       "      <th>7</th>\n",
       "      <th>8</th>\n",
       "      <th>9</th>\n",
       "      <th>10</th>\n",
       "      <th>11</th>\n",
       "    </tr>\n",
       "  </thead>\n",
       "  <tbody>\n",
       "    <tr>\n",
       "      <th>Month</th>\n",
       "      <td>Jan</td>\n",
       "      <td>Feb</td>\n",
       "      <td>Mar</td>\n",
       "      <td>Apr</td>\n",
       "      <td>May</td>\n",
       "      <td>Jun</td>\n",
       "      <td>Jul</td>\n",
       "      <td>Aug</td>\n",
       "      <td>Sep</td>\n",
       "      <td>Oct</td>\n",
       "      <td>Nov</td>\n",
       "      <td>Dec</td>\n",
       "    </tr>\n",
       "    <tr>\n",
       "      <th>Probability</th>\n",
       "      <td>93.9</td>\n",
       "      <td>94.14</td>\n",
       "      <td>95.38</td>\n",
       "      <td>94.75</td>\n",
       "      <td>94.76</td>\n",
       "      <td>93.19</td>\n",
       "      <td>93.58</td>\n",
       "      <td>92.8</td>\n",
       "      <td>92.21</td>\n",
       "      <td>94.75</td>\n",
       "      <td>94.17</td>\n",
       "      <td>94.4</td>\n",
       "    </tr>\n",
       "  </tbody>\n",
       "</table>"
      ],
      "text/plain": [
       "<IPython.core.display.HTML object>"
      ]
     },
     "metadata": {},
     "output_type": "display_data"
    },
    {
     "data": {
      "text/html": [
       "<table border=\"0.0\" class=\"dataframe top3probs\">\n",
       "  <thead>\n",
       "    <tr style=\"text-align: center;\">\n",
       "      <th></th>\n",
       "      <th>Month</th>\n",
       "      <th>Probability</th>\n",
       "    </tr>\n",
       "  </thead>\n",
       "  <tbody>\n",
       "    <tr>\n",
       "      <th>1</th>\n",
       "      <td>Mar</td>\n",
       "      <td>95.38</td>\n",
       "    </tr>\n",
       "    <tr>\n",
       "      <th>2</th>\n",
       "      <td>May</td>\n",
       "      <td>94.76</td>\n",
       "    </tr>\n",
       "    <tr>\n",
       "      <th>3</th>\n",
       "      <td>Apr</td>\n",
       "      <td>94.75</td>\n",
       "    </tr>\n",
       "  </tbody>\n",
       "</table>"
      ],
      "text/plain": [
       "<IPython.core.display.HTML object>"
      ]
     },
     "metadata": {},
     "output_type": "display_data"
    }
   ],
   "source": [
    "from calc_probabilities import calc_probabilities\n",
    "from get_varlists import get_varlists\n",
    "from bokeh.plotting import figure\n",
    "from bokeh.resources import CDN\n",
    "from bokeh.embed import components\n",
    "import matplotlib.pyplot as plt\n",
    "import numpy as np\n",
    "import io\n",
    "import base64\n",
    "from IPython.core.display import display, HTML\n",
    "\n",
    "probs, top3probs = calc_probabilities('H-1B', 'Doctorate', 54.0)\n",
    "\n",
    "#htmltables = [probs.to_html(classes=\"probs\", border=0.0), top3probs.to_html(classes=\"top3probs\")]\n",
    "titles = ['Probabilities by Month', 'Top Three Months']\n",
    "#htmltables[0] = style_in_html + htmltables[0]\n",
    "\n",
    "probstrans = probs.transpose()\n",
    "#probstrans.style.set_properties.background-color(subset=['0', '2', '3', '5', '7', '9', '11'],\n",
    "#                                color='#d6d2c4')\n",
    "#probstrans.style.format(\"{:.2%}\")\n",
    "htmltables= []\n",
    "htmltables.append('''\n",
    "                    <style>\n",
    "                        .probstrans tbody tr:nth-child(even) {background-color: lightblue; }\n",
    "                    </style>\n",
    "                    ''' + probstrans.to_html(classes='monthlyprobs'))\n",
    "htmltables.append(top3probs.to_html(classes=\"top3probs\", border=0.0, index=True, \n",
    "                                  justify='center'))\n",
    "plot = figure(x_range=probs['Month'], y_range=(0,100))\n",
    "plot.xaxis.axis_label = 'Month'\n",
    "plot.yaxis.axis_label = '% Chance of Acceptance'\n",
    "plot.line(probs['Month'], probs['Probability'])\n",
    "script, div = components(plot)\n",
    "print(htmltables)\n",
    "display(HTML(htmltables[0]))\n",
    "display(HTML(htmltables[1]))\n",
    "#print(div)\n",
    "\n",
    "#plt.ylim([0, 100])\n",
    "#plt.xticks(xaxis_loc, monthly_probs['Month'])\n",
    "#plt.xlabel('Month')\n",
    "#plt.ylabel('% Chance of Acceptance')\n",
    "#plt.title('Visa Chance of Acceptance by Month')\n",
    "#figfile = io.StringIO()\n",
    "#plt.savefig(figfile, format='png')\n",
    "#figfile.seek(0)        \n",
    "#figdata_png = base64.b64encode(figfile.getvalue())"
   ]
  },
  {
   "cell_type": "code",
   "execution_count": null,
   "metadata": {},
   "outputs": [],
   "source": []
  }
 ],
 "metadata": {
  "kernelspec": {
   "display_name": "Python 3",
   "language": "python",
   "name": "python3"
  },
  "language_info": {
   "codemirror_mode": {
    "name": "ipython",
    "version": 3
   },
   "file_extension": ".py",
   "mimetype": "text/x-python",
   "name": "python",
   "nbconvert_exporter": "python",
   "pygments_lexer": "ipython3",
   "version": "3.6.2"
  }
 },
 "nbformat": 4,
 "nbformat_minor": 2
}
